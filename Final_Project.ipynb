{
  "nbformat": 4,
  "nbformat_minor": 0,
  "metadata": {
    "colab": {
      "name": "Final_Project.ipynb",
      "provenance": [],
      "collapsed_sections": [
        "GH6UiQZHg1oD"
      ]
    },
    "kernelspec": {
      "display_name": "Python 3",
      "language": "python",
      "name": "python3"
    },
    "language_info": {
      "codemirror_mode": {
        "name": "ipython",
        "version": 3
      },
      "file_extension": ".py",
      "mimetype": "text/x-python",
      "name": "python",
      "nbconvert_exporter": "python",
      "pygments_lexer": "ipython3",
      "version": "3.7.2"
    }
  },
  "cells": [
    {
      "cell_type": "markdown",
      "metadata": {
        "id": "mMiDjoxWjJaT",
        "colab_type": "text"
      },
      "source": [
        "##Library Imports"
      ]
    },
    {
      "cell_type": "code",
      "metadata": {
        "colab_type": "code",
        "id": "EdbjLYIoqwdV",
        "colab": {}
      },
      "source": [
        "import pandas as pd\n",
        "import numpy as np\n",
        "from matplotlib import pyplot as plt\n",
        "from sklearn.preprocessing import StandardScaler\n",
        "from sklearn import svm\n",
        "import seaborn as sn"
      ],
      "execution_count": 0,
      "outputs": []
    },
    {
      "cell_type": "markdown",
      "metadata": {
        "id": "7uwqRNNwgzNx",
        "colab_type": "text"
      },
      "source": [
        "##Loading datasets"
      ]
    },
    {
      "cell_type": "code",
      "metadata": {
        "colab_type": "code",
        "id": "SnF773rUpqrG",
        "outputId": "70d731ef-c36a-4367-8f4f-d29126d79312",
        "colab": {
          "base_uri": "https://localhost:8080/",
          "height": 456
        }
      },
      "source": [
        "# Import the datasets\n",
        "data_train = pd.read_csv('train.csv', header=None)\n",
        "data_test = pd.read_csv('test.csv', header=None)\n",
        "\n",
        "# Store the unprocessed features in arrays\n",
        "ini_train = np.array(data_train.iloc[1:,:11])\n",
        "ini_test = np.array(data_test.iloc[1:,:11])\n",
        "\n",
        "# Store classes in arrays\n",
        "y_train = np.array(data_train.iloc[1:,11])\n",
        "y_test = np.array(data_test.iloc[1:,11])\n",
        "\n",
        "# Take a look at the data\n",
        "data_train"
      ],
      "execution_count": 2,
      "outputs": [
        {
          "output_type": "execute_result",
          "data": {
            "text/html": [
              "<div>\n",
              "<style scoped>\n",
              "    .dataframe tbody tr th:only-of-type {\n",
              "        vertical-align: middle;\n",
              "    }\n",
              "\n",
              "    .dataframe tbody tr th {\n",
              "        vertical-align: top;\n",
              "    }\n",
              "\n",
              "    .dataframe thead th {\n",
              "        text-align: right;\n",
              "    }\n",
              "</style>\n",
              "<table border=\"1\" class=\"dataframe\">\n",
              "  <thead>\n",
              "    <tr style=\"text-align: right;\">\n",
              "      <th></th>\n",
              "      <th>0</th>\n",
              "      <th>1</th>\n",
              "      <th>2</th>\n",
              "      <th>3</th>\n",
              "      <th>4</th>\n",
              "      <th>5</th>\n",
              "      <th>6</th>\n",
              "      <th>7</th>\n",
              "      <th>8</th>\n",
              "      <th>9</th>\n",
              "      <th>10</th>\n",
              "      <th>11</th>\n",
              "    </tr>\n",
              "  </thead>\n",
              "  <tbody>\n",
              "    <tr>\n",
              "      <th>0</th>\n",
              "      <td>profile pic</td>\n",
              "      <td>nums/length username</td>\n",
              "      <td>fullname words</td>\n",
              "      <td>nums/length fullname</td>\n",
              "      <td>name==username</td>\n",
              "      <td>description length</td>\n",
              "      <td>external URL</td>\n",
              "      <td>private</td>\n",
              "      <td>#posts</td>\n",
              "      <td>#followers</td>\n",
              "      <td>#follows</td>\n",
              "      <td>fake</td>\n",
              "    </tr>\n",
              "    <tr>\n",
              "      <th>1</th>\n",
              "      <td>1</td>\n",
              "      <td>0.27</td>\n",
              "      <td>0</td>\n",
              "      <td>0</td>\n",
              "      <td>0</td>\n",
              "      <td>53</td>\n",
              "      <td>0</td>\n",
              "      <td>0</td>\n",
              "      <td>32</td>\n",
              "      <td>1000</td>\n",
              "      <td>955</td>\n",
              "      <td>0</td>\n",
              "    </tr>\n",
              "    <tr>\n",
              "      <th>2</th>\n",
              "      <td>1</td>\n",
              "      <td>0</td>\n",
              "      <td>2</td>\n",
              "      <td>0</td>\n",
              "      <td>0</td>\n",
              "      <td>44</td>\n",
              "      <td>0</td>\n",
              "      <td>0</td>\n",
              "      <td>286</td>\n",
              "      <td>2740</td>\n",
              "      <td>533</td>\n",
              "      <td>0</td>\n",
              "    </tr>\n",
              "    <tr>\n",
              "      <th>3</th>\n",
              "      <td>1</td>\n",
              "      <td>0.1</td>\n",
              "      <td>2</td>\n",
              "      <td>0</td>\n",
              "      <td>0</td>\n",
              "      <td>0</td>\n",
              "      <td>0</td>\n",
              "      <td>1</td>\n",
              "      <td>13</td>\n",
              "      <td>159</td>\n",
              "      <td>98</td>\n",
              "      <td>0</td>\n",
              "    </tr>\n",
              "    <tr>\n",
              "      <th>4</th>\n",
              "      <td>1</td>\n",
              "      <td>0</td>\n",
              "      <td>1</td>\n",
              "      <td>0</td>\n",
              "      <td>0</td>\n",
              "      <td>82</td>\n",
              "      <td>0</td>\n",
              "      <td>0</td>\n",
              "      <td>679</td>\n",
              "      <td>414</td>\n",
              "      <td>651</td>\n",
              "      <td>0</td>\n",
              "    </tr>\n",
              "    <tr>\n",
              "      <th>...</th>\n",
              "      <td>...</td>\n",
              "      <td>...</td>\n",
              "      <td>...</td>\n",
              "      <td>...</td>\n",
              "      <td>...</td>\n",
              "      <td>...</td>\n",
              "      <td>...</td>\n",
              "      <td>...</td>\n",
              "      <td>...</td>\n",
              "      <td>...</td>\n",
              "      <td>...</td>\n",
              "      <td>...</td>\n",
              "    </tr>\n",
              "    <tr>\n",
              "      <th>572</th>\n",
              "      <td>1</td>\n",
              "      <td>0.55</td>\n",
              "      <td>1</td>\n",
              "      <td>0.44</td>\n",
              "      <td>0</td>\n",
              "      <td>0</td>\n",
              "      <td>0</td>\n",
              "      <td>0</td>\n",
              "      <td>33</td>\n",
              "      <td>166</td>\n",
              "      <td>596</td>\n",
              "      <td>1</td>\n",
              "    </tr>\n",
              "    <tr>\n",
              "      <th>573</th>\n",
              "      <td>1</td>\n",
              "      <td>0.38</td>\n",
              "      <td>1</td>\n",
              "      <td>0.33</td>\n",
              "      <td>0</td>\n",
              "      <td>21</td>\n",
              "      <td>0</td>\n",
              "      <td>0</td>\n",
              "      <td>44</td>\n",
              "      <td>66</td>\n",
              "      <td>75</td>\n",
              "      <td>1</td>\n",
              "    </tr>\n",
              "    <tr>\n",
              "      <th>574</th>\n",
              "      <td>1</td>\n",
              "      <td>0.57</td>\n",
              "      <td>2</td>\n",
              "      <td>0.0</td>\n",
              "      <td>0</td>\n",
              "      <td>0</td>\n",
              "      <td>0</td>\n",
              "      <td>0</td>\n",
              "      <td>4</td>\n",
              "      <td>96</td>\n",
              "      <td>339</td>\n",
              "      <td>1</td>\n",
              "    </tr>\n",
              "    <tr>\n",
              "      <th>575</th>\n",
              "      <td>1</td>\n",
              "      <td>0.57</td>\n",
              "      <td>1</td>\n",
              "      <td>0.0</td>\n",
              "      <td>0</td>\n",
              "      <td>11</td>\n",
              "      <td>0</td>\n",
              "      <td>0</td>\n",
              "      <td>0</td>\n",
              "      <td>57</td>\n",
              "      <td>73</td>\n",
              "      <td>1</td>\n",
              "    </tr>\n",
              "    <tr>\n",
              "      <th>576</th>\n",
              "      <td>1</td>\n",
              "      <td>0.27</td>\n",
              "      <td>1</td>\n",
              "      <td>0.0</td>\n",
              "      <td>0</td>\n",
              "      <td>0</td>\n",
              "      <td>0</td>\n",
              "      <td>0</td>\n",
              "      <td>2</td>\n",
              "      <td>150</td>\n",
              "      <td>487</td>\n",
              "      <td>1</td>\n",
              "    </tr>\n",
              "  </tbody>\n",
              "</table>\n",
              "<p>577 rows × 12 columns</p>\n",
              "</div>"
            ],
            "text/plain": [
              "              0                     1   ...        10    11\n",
              "0    profile pic  nums/length username  ...  #follows  fake\n",
              "1              1                  0.27  ...       955     0\n",
              "2              1                     0  ...       533     0\n",
              "3              1                   0.1  ...        98     0\n",
              "4              1                     0  ...       651     0\n",
              "..           ...                   ...  ...       ...   ...\n",
              "572            1                  0.55  ...       596     1\n",
              "573            1                  0.38  ...        75     1\n",
              "574            1                  0.57  ...       339     1\n",
              "575            1                  0.57  ...        73     1\n",
              "576            1                  0.27  ...       487     1\n",
              "\n",
              "[577 rows x 12 columns]"
            ]
          },
          "metadata": {
            "tags": []
          },
          "execution_count": 2
        }
      ]
    },
    {
      "cell_type": "markdown",
      "metadata": {
        "id": "GH6UiQZHg1oD",
        "colab_type": "text"
      },
      "source": [
        "## Preprocessing"
      ]
    },
    {
      "cell_type": "code",
      "metadata": {
        "colab_type": "code",
        "id": "jd_yXZ-4tJLe",
        "colab": {}
      },
      "source": [
        "scaler = StandardScaler()\n",
        "\n",
        "def preprocess(ar, stand):\n",
        "    new_data = np.zeros(11)\n",
        "    new_data = np.reshape(new_data, (1, 11))\n",
        "    \n",
        "    for line in ar:\n",
        "        new_line = line[0:11]\n",
        "        new_line = np.reshape(new_line, (1, 11))\n",
        "        new_data = np.append(new_data, new_line, axis=0)\n",
        "    \n",
        "    new_data = new_data[1:]\n",
        "    \n",
        "    if stand:\n",
        "      new_data = scaler.fit_transform(new_data)\n",
        "            \n",
        "    return new_data"
      ],
      "execution_count": 0,
      "outputs": []
    },
    {
      "cell_type": "code",
      "metadata": {
        "id": "WCmjW3Rd5Wkd",
        "colab_type": "code",
        "colab": {}
      },
      "source": [
        "# Preprocess the training and testing datasets\n",
        "tmp = preprocess(ini_train, False)\n",
        "X_train = preprocess(ini_train, True)\n",
        "X_test = preprocess(ini_test, True)"
      ],
      "execution_count": 0,
      "outputs": []
    },
    {
      "cell_type": "markdown",
      "metadata": {
        "id": "_J3vM8jWQSMS",
        "colab_type": "text"
      },
      "source": [
        "Let's visualize the data. (0 real, 1 fake)"
      ]
    },
    {
      "cell_type": "code",
      "metadata": {
        "id": "g3R-NETgN8Ld",
        "colab_type": "code",
        "outputId": "3bbdb44d-563e-4918-efd9-ceb71b9a9411",
        "colab": {
          "base_uri": "https://localhost:8080/",
          "height": 302
        }
      },
      "source": [
        "see = 10\n",
        "plot_x = np.zeros(len(X_train))\n",
        "print(data_train[see][0])\n",
        "for i in range(len(X_train)):\n",
        "  plot_x[i] = X_train[i][see]\n",
        "\n",
        "plt.scatter(y_train,plot_x)"
      ],
      "execution_count": 31,
      "outputs": [
        {
          "output_type": "stream",
          "text": [
            "#follows\n"
          ],
          "name": "stdout"
        },
        {
          "output_type": "execute_result",
          "data": {
            "text/plain": [
              "<matplotlib.collections.PathCollection at 0x7f63691404a8>"
            ]
          },
          "metadata": {
            "tags": []
          },
          "execution_count": 31
        },
        {
          "output_type": "display_data",
          "data": {
            "image/png": "[encoded data removed]",
            "text/plain": [
              "<Figure size 432x288 with 1 Axes>"
            ]
          },
          "metadata": {
            "tags": []
          }
        }
      ]
    },
    {
      "cell_type": "markdown",
      "metadata": {
        "id": "0pdgUZdQhGk7",
        "colab_type": "text"
      },
      "source": [
        "##SVM Model\n",
        "\n",
        "SVC performs better than LinearSVC"
      ]
    },
    {
      "cell_type": "code",
      "metadata": {
        "id": "27vW6y6k5Wkh",
        "colab_type": "code",
        "outputId": "0519aee3-e18c-46e9-b283-2e35b5543f8a",
        "colab": {
          "base_uri": "https://localhost:8080/",
          "height": 51
        }
      },
      "source": [
        "svm_clf = svm.SVC(max_iter=1500)\n",
        "svm_clf.fit(X_train, y_train)\n",
        "\n",
        "print(svm_clf.score(X_train, y_train))\n",
        "print(svm_clf.score(X_test, y_test)) "
      ],
      "execution_count": 10,
      "outputs": [
        {
          "output_type": "stream",
          "text": [
            "0.9166666666666666\n",
            "0.8833333333333333\n"
          ],
          "name": "stdout"
        }
      ]
    },
    {
      "cell_type": "markdown",
      "metadata": {
        "id": "KDMmIKppgw8H",
        "colab_type": "text"
      },
      "source": [
        "Small test"
      ]
    },
    {
      "cell_type": "code",
      "metadata": {
        "id": "ZV4w5WyFc4Ny",
        "colab_type": "code",
        "outputId": "5f37b632-5e3b-46cc-92e3-311fd845aef2",
        "colab": {
          "base_uri": "https://localhost:8080/",
          "height": 34
        }
      },
      "source": [
        "test = [[0, 0.9, 2, 0.4, 1, 5, 0, 0, 33, 142, 1000]] # This should be fake:1 (using graph data)\n",
        "test2 = [[1, 0, 1, 0, 0, 30, 0, 0, 36, 473, 472]] # This should be real:0 (personal account data)\n",
        "test = scaler.transform(test)\n",
        "test2 = scaler.transform(test2)\n",
        "\n",
        "pred = svm_clf.predict(test)\n",
        "pred2 = svm_clf.predict(test2)\n",
        "print(pred, pred2)"
      ],
      "execution_count": 11,
      "outputs": [
        {
          "output_type": "stream",
          "text": [
            "['1'] ['0']\n"
          ],
          "name": "stdout"
        }
      ]
    },
    {
      "cell_type": "markdown",
      "metadata": {
        "id": "3xU-ktcUvhRR",
        "colab_type": "text"
      },
      "source": [
        "Confusion Matrix: www.dataschool.io/simple-guide-to-confusion-matrix-terminology/"
      ]
    },
    {
      "cell_type": "code",
      "metadata": {
        "id": "QKsBzECwvgeo",
        "colab_type": "code",
        "colab": {
          "base_uri": "https://localhost:8080/",
          "height": 85
        },
        "outputId": "74ef7570-e8ff-4f3f-cbd3-288d988ad02f"
      },
      "source": [
        "test_pred = svm_clf.predict(X_test)\n",
        "\n",
        "data = {'y_actual': y_test.astype(float), 'y_pred': test_pred.astype(float)}\n",
        "df = pd.DataFrame(data, columns=['y_actual','y_pred'])\n",
        "\n",
        "confusion_matrix = pd.crosstab(df['y_actual'], df['y_pred'], rownames=['Actual'], colnames=['Predicted'])\n",
        "print (confusion_matrix)"
      ],
      "execution_count": 79,
      "outputs": [
        {
          "output_type": "stream",
          "text": [
            "Predicted  0.0  1.0\n",
            "Actual             \n",
            "0.0         54    6\n",
            "1.0          8   52\n"
          ],
          "name": "stdout"
        }
      ]
    },
    {
      "cell_type": "markdown",
      "metadata": {
        "id": "AnN3jsGkxgvg",
        "colab_type": "text"
      },
      "source": [
        "*   True Negative: 54\n",
        "*   False Negative: 8\n",
        "*   True Positive: 52\n",
        "*   False Positive: 6"
      ]
    },
    {
      "cell_type": "code",
      "metadata": {
        "id": "aBEIi35gw2Me",
        "colab_type": "code",
        "colab": {
          "base_uri": "https://localhost:8080/",
          "height": 301
        },
        "outputId": "de725873-3f56-4193-a5b7-98fe83951711"
      },
      "source": [
        "sn.heatmap(confusion_matrix, annot=True)\n",
        "# Why are the numbers displayed in the borders"
      ],
      "execution_count": 83,
      "outputs": [
        {
          "output_type": "execute_result",
          "data": {
            "text/plain": [
              "<matplotlib.axes._subplots.AxesSubplot at 0x7f63693ccb00>"
            ]
          },
          "metadata": {
            "tags": []
          },
          "execution_count": 83
        },
        {
          "output_type": "display_data",
          "data": {
            "image/png": "[encoded data removed]",
            "text/plain": [
              "<Figure size 432x288 with 2 Axes>"
            ]
          },
          "metadata": {
            "tags": []
          }
        }
      ]
    },
    {
      "cell_type": "markdown",
      "metadata": {
        "id": "GSyop3MLqF1N",
        "colab_type": "text"
      },
      "source": [
        "Correlation Matrix (higher the value, higher the correlation)"
      ]
    },
    {
      "cell_type": "code",
      "metadata": {
        "id": "bTlo7a5ijO3K",
        "colab_type": "code",
        "colab": {
          "base_uri": "https://localhost:8080/",
          "height": 521
        },
        "outputId": "ba818e0c-2d0f-4511-cb41-8bafac8344c4"
      },
      "source": [
        "tmp = data_train.iloc[1:,:11]\n",
        "corr = tmp.astype(float).corr()\n",
        "\n",
        "f = plt.figure(figsize=(10,8))\n",
        "plt.matshow(corr, fignum=f.number)\n",
        "plt.xticks(range(tmp.shape[1]), tmp.columns, rotation=45)\n",
        "# plt.yticks(range(tmp.shape[1]), tmp.columns, fontsize=14)\n",
        "cb = plt.colorbar()\n",
        "cb.ax.tick_params(labelsize=14)\n",
        "plt.title('Correlation Matrix', fontsize=16);\n",
        "plt.show()"
      ],
      "execution_count": 64,
      "outputs": [
        {
          "output_type": "display_data",
          "data": {
            "image/png": "[encoded data removed]",
            "text/plain": [
              "<Figure size 720x576 with 2 Axes>"
            ]
          },
          "metadata": {
            "tags": []
          }
        }
      ]
    },
    {
      "cell_type": "code",
      "metadata": {
        "id": "ewpvRv3HoEmC",
        "colab_type": "code",
        "colab": {}
      },
      "source": [
        ""
      ],
      "execution_count": 0,
      "outputs": []
    }
  ]
}